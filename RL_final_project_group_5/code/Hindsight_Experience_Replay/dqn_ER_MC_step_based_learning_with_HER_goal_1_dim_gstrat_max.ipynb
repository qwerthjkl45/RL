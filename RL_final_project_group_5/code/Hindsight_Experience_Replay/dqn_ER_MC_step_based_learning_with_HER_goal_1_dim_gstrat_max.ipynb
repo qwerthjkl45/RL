{
 "cells": [
  {
   "cell_type": "code",
   "execution_count": 1,
   "metadata": {},
   "outputs": [],
   "source": [
    "import torch\n",
    "from torch.autograd import Variable\n",
    "import torch.nn as nn\n",
    "import torch.nn.functional as F\n",
    "import torch.optim as optim\n",
    "\n",
    "import numpy as np\n",
    "import random\n",
    "import matplotlib.pyplot as plt\n",
    "\n",
    "import gym\n",
    "\n",
    "from tqdm import tqdm as _tqdm\n",
    "def tqdm(*args, **kwargs):\n",
    "    return _tqdm(*args, **kwargs, mininterval=1)  # Safety, do not overflow buffer"
   ]
  },
  {
   "cell_type": "code",
   "execution_count": 2,
   "metadata": {},
   "outputs": [
    {
     "name": "stdout",
     "output_type": "stream",
     "text": [
      "\u001b[33mWARN: gym.spaces.Box autodetected dtype as <class 'numpy.float32'>. Please provide explicit dtype.\u001b[0m\n"
     ]
    }
   ],
   "source": [
    "env = gym.envs.make(\"MountainCar-v0\")\n",
    "#env = gym.envs.make(\"CartPole-v0\")\n",
    "#??env.env\n",
    "# MOUNTAINCAR:\n",
    "# states are (position,velocity), position from -1.2 to 0.6, velocity from -0.07 to 0.07\n",
    "# actions are: 0 = push left, 1 = do nothing, 2 = push right"
   ]
  },
  {
   "cell_type": "code",
   "execution_count": null,
   "metadata": {},
   "outputs": [],
   "source": []
  },
  {
   "cell_type": "code",
   "execution_count": 3,
   "metadata": {},
   "outputs": [],
   "source": [
    "class Memory():\n",
    "    def __init__(self, mem_size = 1000000):\n",
    "        self.mem_size = mem_size\n",
    "        self.mem = []\n",
    "        \n",
    "    def add(self, transition):\n",
    "        if len(self.mem) == self.mem_size:\n",
    "            del self.mem[0]\n",
    "        self.mem.append(transition)\n",
    "        \n",
    "    def sample(self, batch_size):\n",
    "        if batch_size > len(self.mem):\n",
    "            self.mem = self.mem * batch_size\n",
    "        \n",
    "        samples = random.sample(self.mem, batch_size)\n",
    "        return samples"
   ]
  },
  {
   "cell_type": "code",
   "execution_count": 4,
   "metadata": {},
   "outputs": [],
   "source": [
    "# Single hidden layer with 256 hidden nodes DQN\n",
    "class DQN(nn.Module):\n",
    "    def __init__(self, num_in, num_out):\n",
    "        super(DQN, self).__init__()\n",
    "        self.fc1 = nn.Linear(num_in, 30)\n",
    "        self.fc2 = nn.Linear(30, 30)\n",
    "        self.fc3 = nn.Linear(30, num_out)\n",
    "\n",
    "    def forward(self, x):\n",
    "        out = F.relu(self.fc1(x))\n",
    "        out = F.relu(self.fc2(out))\n",
    "        out = self.fc3(out)\n",
    "        return out"
   ]
  },
  {
   "cell_type": "code",
   "execution_count": 5,
   "metadata": {},
   "outputs": [],
   "source": [
    "def compute_q_val(model, state, action):\n",
    "    # T tensor, T = [[1,2],[3,4],[5,6]], T[row_indexes,index_for_each_row], T[[0,1,2],[0,0,1]]=[1,3,6]\n",
    "    return model(torch.tensor(state,dtype=torch.float))[range(0,len(action)),action]\n",
    "    \n",
    "def compute_target(model, reward, next_state, done, discount_factor):\n",
    "    # done is a boolean (vector) that indicates if next_state is terminal (episode is done)\n",
    "    # YOUR CODE HERE\n",
    "    \n",
    "    # For given (state,action), the target is: reward + discount_factor * max_a{Q(next_state,a)}\n",
    "    # If next_state is terminal state, then target is just equal to: reward\n",
    "    Q = model(next_state)\n",
    "    max_Q_vals, indices = torch.max(Q, 1)\n",
    "    mask = torch.tensor(1-done, dtype=torch.float)\n",
    "    target = reward + mask * discount_factor * max_Q_vals\n",
    "    return target"
   ]
  },
  {
   "cell_type": "code",
   "execution_count": 6,
   "metadata": {},
   "outputs": [],
   "source": [
    "def calc_reward(s,g):\n",
    "    q = 0.025\n",
    "    if abs(s[0] - g) < q:\n",
    "        r = 0\n",
    "    else:\n",
    "        r = -1\n",
    "    \n",
    "    return r"
   ]
  },
  {
   "cell_type": "code",
   "execution_count": 7,
   "metadata": {},
   "outputs": [],
   "source": [
    "def do_train_step(eval_dqn,target_dqn,loss_func,optimizer,minibatch,gamma):\n",
    "    state,action,reward,next_state,done = zip(*minibatch)\n",
    "    state = torch.tensor(state, dtype=torch.float)\n",
    "    action = torch.tensor(action, dtype=torch.int64)\n",
    "    reward = torch.tensor(reward, dtype=torch.float)\n",
    "    next_state = torch.tensor(next_state, dtype=torch.float)\n",
    "    done = torch.tensor(done, dtype=torch.uint8)\n",
    "\n",
    "    #compute the q value\n",
    "    q_val = compute_q_val(eval_dqn, state, action)\n",
    "\n",
    "    with torch.no_grad():  # Don't compute gradient info for the target (semi-gradient)\n",
    "        target = compute_target(target_dqn, reward, next_state, done, gamma)\n",
    "\n",
    "    loss = loss_func(q_val,target)\n",
    "            \n",
    "    #\n",
    "    optimizer.zero_grad()\n",
    "    loss.backward()\n",
    "#            for param in dqn.parameters():\n",
    "#                param.grad.data.clamp_(-1, 1)\n",
    "    optimizer.step()\n",
    "    return"
   ]
  },
  {
   "cell_type": "code",
   "execution_count": 8,
   "metadata": {},
   "outputs": [],
   "source": [
    "def perform_test_run(num_episodes_test, given_dqn):\n",
    "    all_rewards = []\n",
    "\n",
    "    for epi in range(0,num_episodes_test):\n",
    "        s = env.reset()\n",
    "\n",
    "        total_reward = 0\n",
    "        g = 0.5    \n",
    "        while True:\n",
    "            s_g = np.concatenate([s,[g]])\n",
    "            input_s_g = torch.tensor(s_g,dtype=torch.float)\n",
    "            action_vals = given_dqn(input_s_g)\n",
    "            val,ind = torch.max(action_vals, 0)\n",
    "            action = ind.item()\n",
    "        \n",
    "            next_state,reward,done,_ = env.step(action)\n",
    "            total_reward = total_reward + reward\n",
    "            if done == True:\n",
    "                break\n",
    "            else:\n",
    "                s = next_state\n",
    "    \n",
    "        all_rewards.append(total_reward)\n",
    "    \n",
    "    avg_rew = sum(all_rewards)/len(all_rewards)\n",
    "    num_suc = 0\n",
    "    for z in all_rewards:\n",
    "        if z > -200:\n",
    "            num_suc = num_suc + 1\n",
    "    \n",
    "    \n",
    "    return all_rewards, avg_rew, num_suc"
   ]
  },
  {
   "cell_type": "code",
   "execution_count": null,
   "metadata": {},
   "outputs": [],
   "source": []
  },
  {
   "cell_type": "code",
   "execution_count": 9,
   "metadata": {},
   "outputs": [],
   "source": [
    "def exec_algorithm():\n",
    "    # Hyper parameters\n",
    "    epsilon_start = 1.0\n",
    "    epsilon_min = 0.05\n",
    "    epsilon = epsilon_start\n",
    "    gamma = 1.0\n",
    "    num_epochs = 1\n",
    "    num_epi_per_epoch = 500#2000\n",
    "    batch_size = 64\n",
    "    NUM_ACTIONS = 3\n",
    "    \n",
    "    # Create experience replay buffer\n",
    "    mem_size = 60000#40000\n",
    "    mem = Memory(mem_size)\n",
    "    \n",
    "    # Create DQNs\n",
    "    num_in_MC = 2\n",
    "    num_out_MC = 3\n",
    "    eval_dqn = DQN(num_in_MC+1, num_out_MC)\n",
    "    target_dqn = DQN(num_in_MC+1, num_out_MC)\n",
    "    target_dqn.load_state_dict(eval_dqn.state_dict())\n",
    "    \n",
    "    # optimizer parameters\n",
    "    learning_rate = 1e-3\n",
    "    loss_func = torch.nn.MSELoss()\n",
    "    optimizer = optim.Adam(eval_dqn.parameters(), lr=learning_rate)\n",
    "    \n",
    "    # Collect statistics\n",
    "    num_updates = []\n",
    "    \n",
    "    ############################################################\n",
    "    # ALGORITHM PART\n",
    "    num_updates_done = 0\n",
    "    all_epi_rew = []\n",
    "\n",
    "    # the goal\n",
    "    g0 = 0.5\n",
    "\n",
    "    for epoch in range(0, num_epochs):\n",
    "        for epi in tqdm(range(0, num_epi_per_epoch)):\n",
    "#        for epi in range(0, num_epi_per_epoch):\n",
    "            s = env.reset()\n",
    "            real_epi_exp = []\n",
    "        \n",
    "            epsilon = epsilon*0.95\n",
    "            epsilon = max(epsilon_min, epsilon)\n",
    "\n",
    "            g = g0\n",
    "        \n",
    "            # EXPERIENCE\n",
    "            cur_epi_rew = 0\n",
    "            while True:\n",
    "                s_g = np.concatenate([s,[g]])\n",
    "                # epsilon-greedy policy\n",
    "                if random.uniform(0,1) < epsilon:\n",
    "                    action = np.random.randint(NUM_ACTIONS)\n",
    "                else:\n",
    "                    input_s_g = torch.tensor(s_g,dtype=torch.float)\n",
    "                    action_vals = eval_dqn(input_s_g)\n",
    "                    val,ind = torch.max(action_vals, 0)\n",
    "                    action = ind.item()\n",
    "\n",
    "                next_state,reward,done,_ = env.step(action)\n",
    "                next_state_g = np.concatenate([next_state,[g]])\n",
    "            \n",
    "                experience = (s,action,next_state)\n",
    "                real_epi_exp.append(experience)\n",
    "\n",
    "                transition = (s_g,action,reward,next_state_g,done)\n",
    "                mem.add(transition)\n",
    "\n",
    "                cur_epi_rew = cur_epi_rew + reward\n",
    "\n",
    "                # Train network\n",
    "                # Sample minimatch\n",
    "\n",
    "                if len(mem.mem) > batch_size:\n",
    "                    minibatch = mem.sample(batch_size)\n",
    "                    do_train_step(eval_dqn,target_dqn,loss_func,optimizer,minibatch,gamma)\n",
    "                    num_updates_done = num_updates_done + 1\n",
    "\n",
    "                if done == True:\n",
    "                    # Update target network\n",
    "                    target_dqn.load_state_dict(eval_dqn.state_dict())\n",
    "                    break\n",
    "                else:\n",
    "                    s = next_state\n",
    "            all_epi_rew.append(cur_epi_rew)\n",
    "            num_updates.append(num_updates_done)\n",
    "        \n",
    "            # Add to experience replay\n",
    "            _,_,all_ns = zip(*real_epi_exp)\n",
    "            goal_index = np.argmax(np.abs(0.5 + np.array(all_ns)[:,0]))\n",
    "            _,_,g_new = real_epi_exp[goal_index]\n",
    "            g_new = g_new[0]            \n",
    "            for t in range(0, len(real_epi_exp)): # =(goal_index+1)-1\n",
    "                s,a,next_s = real_epi_exp[t]\n",
    "                s_g_new = np.concatenate([s,[g_new]])\n",
    "                next_s_g_new = np.concatenate([next_s,[g_new]])\n",
    "                r_new = calc_reward(next_s,g_new)\n",
    "                if r_new != -1:\n",
    "                    done = True\n",
    "                else:\n",
    "                    done = False\n",
    "                transition = (s_g_new,a,r_new,next_s_g_new,done)\n",
    "                mem.add(transition)\n",
    "                if done == True:\n",
    "                    break\n",
    "\n",
    "    ############################################################\n",
    "    return eval_dqn,num_updates,all_epi_rew"
   ]
  },
  {
   "cell_type": "code",
   "execution_count": 10,
   "metadata": {},
   "outputs": [
    {
     "name": "stderr",
     "output_type": "stream",
     "text": [
      "100%|██████████| 500/500 [07:16<00:00,  1.31it/s]\n",
      "100%|██████████| 500/500 [06:20<00:00,  1.54it/s]\n",
      "100%|██████████| 500/500 [06:30<00:00,  1.49it/s]\n",
      "100%|██████████| 500/500 [06:29<00:00,  1.61it/s]\n",
      "100%|██████████| 500/500 [06:20<00:00,  1.31it/s]\n",
      "100%|██████████| 500/500 [06:05<00:00,  1.39it/s]\n",
      "100%|██████████| 500/500 [06:15<00:00,  1.45it/s]\n",
      "100%|██████████| 500/500 [06:27<00:00,  1.46it/s]\n",
      "100%|██████████| 500/500 [07:16<00:00,  1.48it/s]\n",
      "100%|██████████| 500/500 [06:49<00:00,  1.43it/s]\n",
      "100%|██████████| 500/500 [06:59<00:00,  1.19it/s]\n",
      "100%|██████████| 500/500 [06:26<00:00,  1.29it/s]\n",
      "100%|██████████| 500/500 [06:27<00:00,  1.29it/s]\n",
      "100%|██████████| 500/500 [06:54<00:00,  1.21it/s]\n",
      "100%|██████████| 500/500 [06:45<00:00,  1.49it/s]\n",
      "100%|██████████| 500/500 [06:52<00:00,  1.54it/s]\n",
      "100%|██████████| 500/500 [06:46<00:00,  1.28it/s]\n",
      "100%|██████████| 500/500 [06:52<00:00,  1.29it/s]\n",
      "100%|██████████| 500/500 [06:42<00:00,  1.24it/s]\n",
      "100%|██████████| 500/500 [06:41<00:00,  1.25it/s]\n",
      "100%|██████████| 500/500 [06:48<00:00,  1.22it/s]\n",
      "100%|██████████| 500/500 [06:41<00:00,  1.24it/s]\n",
      "100%|██████████| 500/500 [06:33<00:00,  1.27it/s]\n",
      "100%|██████████| 500/500 [06:29<00:00,  1.41it/s]\n",
      "100%|██████████| 500/500 [06:42<00:00,  1.28it/s]\n",
      "100%|██████████| 500/500 [06:22<00:00,  1.39it/s]\n",
      "100%|██████████| 500/500 [06:13<00:00,  1.49it/s]\n",
      "100%|██████████| 500/500 [07:46<00:00,  1.07it/s]\n",
      "100%|██████████| 500/500 [06:44<00:00,  1.44it/s]\n",
      "100%|██████████| 500/500 [06:08<00:00,  1.36it/s]\n"
     ]
    }
   ],
   "source": [
    "# No need to set seeds\n",
    "# seed = 123\n",
    "# random.seed(seed)\n",
    "# torch.manual_seed(seed)\n",
    "# env.seed(seed)\n",
    "\n",
    "# Train \"num_models_test\" a new model, and check the performance\n",
    "num_models_test = 30\n",
    "\n",
    "models_epi_rewards = []\n",
    "models_num_updates = []\n",
    "\n",
    "for i in range(0, num_models_test):\n",
    "    # Train a new model, collect test statistics\n",
    "    ith_model,ith_model_num_updates,ith_model_all_epi_rew = exec_algorithm()\n",
    "\n",
    "    # Save model\n",
    "    ith_model_filename = \"dqn_model_\" + str(i) + \"_HER.pth\"\n",
    "    torch.save(ith_model.state_dict(), ith_model_filename)\n",
    "    \n",
    "    # Collect statistics\n",
    "    models_epi_rewards.append(ith_model_all_epi_rew)\n",
    "    models_num_updates.append(ith_model_num_updates)\n",
    "\n"
   ]
  },
  {
   "cell_type": "code",
   "execution_count": 11,
   "metadata": {},
   "outputs": [
    {
     "name": "stdout",
     "output_type": "stream",
     "text": [
      "0\n"
     ]
    }
   ],
   "source": [
    "#print((models_epi_rewards,models_num_updates))\n",
    "\n",
    "import pickle\n",
    "HER_full_info_filename = \"HER_full_info_gstrat_max\"\n",
    "\n",
    "HER_full_info = (models_epi_rewards,models_num_updates)\n",
    "pickle.dump(HER_full_info, open(HER_full_info_filename, 'wb'))\n",
    "\n",
    "loaded_HER_full_info = pickle.load(open(HER_full_info_filename, 'rb'))\n",
    "loaded_A,loaded_B = loaded_HER_full_info\n",
    "print(np.sum(np.array(models_num_updates) - np.array(loaded_B)))"
   ]
  },
  {
   "cell_type": "code",
   "execution_count": 12,
   "metadata": {},
   "outputs": [
    {
     "data": {
      "text/plain": [
       "<ErrorbarContainer object of 3 artists>"
      ]
     },
     "execution_count": 12,
     "metadata": {},
     "output_type": "execute_result"
    },
    {
     "data": {
      "image/png": "[encoded data removed]",
      "text/plain": [
       "<Figure size 432x288 with 1 Axes>"
      ]
     },
     "metadata": {
      "needs_background": "light"
     },
     "output_type": "display_data"
    }
   ],
   "source": [
    "models_mean_epi_reward = np.mean(np.array(models_epi_rewards), axis=0)\n",
    "models_epi_reward_std = np.std(np.array(models_epi_rewards), axis=0)\n",
    "evaluated_num_updates = np.mean(np.array(models_num_updates), axis=0)\n",
    "\n",
    "\n",
    "t = np.arange(0,500)\n",
    "plt.errorbar(t,models_mean_epi_reward,models_epi_reward_std,ecolor=\"lightblue\")"
   ]
  },
  {
   "cell_type": "code",
   "execution_count": null,
   "metadata": {},
   "outputs": [],
   "source": []
  },
  {
   "cell_type": "code",
   "execution_count": 13,
   "metadata": {},
   "outputs": [
    {
     "data": {
      "text/plain": [
       "<ErrorbarContainer object of 3 artists>"
      ]
     },
     "execution_count": 13,
     "metadata": {},
     "output_type": "execute_result"
    },
    {
     "data": {
      "image/png": "[encoded data removed]",
      "text/plain": [
       "<Figure size 432x288 with 1 Axes>"
      ]
     },
     "metadata": {
      "needs_background": "light"
     },
     "output_type": "display_data"
    }
   ],
   "source": [
    "import pickle\n",
    "HER_plot_info_filename = \"HER_plot_info_gstrat_max\"\n",
    "\n",
    "HER_plot_info = (models_mean_epi_reward,models_epi_reward_std)\n",
    "pickle.dump(HER_plot_info, open(HER_plot_info_filename, 'wb'))\n",
    "\n",
    "loaded_HER_plot_info = pickle.load(open(HER_plot_info_filename, 'rb'))\n",
    "loaded_HER_models_mean_epi_reward,loaded_HER_models_epi_reward_std = loaded_HER_plot_info\n",
    "\n",
    "t = np.arange(0,500)\n",
    "plt.errorbar(t,loaded_HER_models_mean_epi_reward,loaded_HER_models_epi_reward_std,ecolor=\"lightblue\")"
   ]
  },
  {
   "cell_type": "code",
   "execution_count": null,
   "metadata": {},
   "outputs": [],
   "source": []
  },
  {
   "cell_type": "code",
   "execution_count": 14,
   "metadata": {},
   "outputs": [
    {
     "data": {
      "image/png": "[encoded data removed]",
      "text/plain": [
       "<Figure size 648x360 with 1 Axes>"
      ]
     },
     "metadata": {
      "needs_background": "light"
     },
     "output_type": "display_data"
    }
   ],
   "source": [
    "dist = 5\n",
    "tot_num_points = int(len(models_mean_epi_reward)/dist)\n",
    "Q_means = []\n",
    "Q_stds = []\n",
    "\n",
    "for k in range(0, tot_num_points):\n",
    "    avg_kth_mean = (1.0/dist) * np.sum(models_mean_epi_reward[k*dist:(k+1)*dist])\n",
    "    Q_means.append(avg_kth_mean)\n",
    "    avg_kth_std = (1.0/dist) * np.sum(models_epi_reward_std[k*dist:(k+1)*dist])\n",
    "    Q_stds.append(avg_kth_std)\n",
    "\n",
    "t = np.arange(0,500,dist)\n",
    "\n",
    "plt.figure(figsize=(9,5))\n",
    "plt.errorbar(t,Q_means,Q_stds,ecolor=\"lightblue\")\n",
    "plt.title(\"HER, mem=10000\")\n",
    "plt.show()"
   ]
  },
  {
   "cell_type": "code",
   "execution_count": null,
   "metadata": {},
   "outputs": [],
   "source": []
  },
  {
   "cell_type": "code",
   "execution_count": null,
   "metadata": {},
   "outputs": [],
   "source": []
  },
  {
   "cell_type": "code",
   "execution_count": null,
   "metadata": {},
   "outputs": [],
   "source": []
  },
  {
   "cell_type": "code",
   "execution_count": null,
   "metadata": {},
   "outputs": [],
   "source": []
  },
  {
   "cell_type": "code",
   "execution_count": 15,
   "metadata": {},
   "outputs": [],
   "source": [
    "######################   END"
   ]
  },
  {
   "cell_type": "code",
   "execution_count": null,
   "metadata": {},
   "outputs": [],
   "source": []
  },
  {
   "cell_type": "code",
   "execution_count": null,
   "metadata": {},
   "outputs": [],
   "source": []
  },
  {
   "cell_type": "code",
   "execution_count": null,
   "metadata": {},
   "outputs": [],
   "source": []
  },
  {
   "cell_type": "code",
   "execution_count": null,
   "metadata": {},
   "outputs": [],
   "source": []
  },
  {
   "cell_type": "code",
   "execution_count": null,
   "metadata": {},
   "outputs": [],
   "source": []
  },
  {
   "cell_type": "code",
   "execution_count": null,
   "metadata": {},
   "outputs": [],
   "source": []
  },
  {
   "cell_type": "code",
   "execution_count": null,
   "metadata": {},
   "outputs": [],
   "source": []
  }
 ],
 "metadata": {
  "kernelspec": {
   "display_name": "Python 3",
   "language": "python",
   "name": "python3"
  },
  "language_info": {
   "codemirror_mode": {
    "name": "ipython",
    "version": 3
   },
   "file_extension": ".py",
   "mimetype": "text/x-python",
   "name": "python",
   "nbconvert_exporter": "python",
   "pygments_lexer": "ipython3",
   "version": "3.6.6"
  }
 },
 "nbformat": 4,
 "nbformat_minor": 2
}
